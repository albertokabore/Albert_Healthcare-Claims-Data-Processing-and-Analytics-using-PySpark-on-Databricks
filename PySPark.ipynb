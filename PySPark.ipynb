{
  "nbformat": 4,
  "nbformat_minor": 0,
  "metadata": {
    "colab": {
      "provenance": [],
      "authorship_tag": "ABX9TyO5Iv+vvSu+0i1yxHWN2v1v",
      "include_colab_link": true
    },
    "kernelspec": {
      "name": "python3",
      "display_name": "Python 3"
    },
    "language_info": {
      "name": "python"
    }
  },
  "cells": [
    {
      "cell_type": "markdown",
      "metadata": {
        "id": "view-in-github",
        "colab_type": "text"
      },
      "source": [
        "<a href=\"https://colab.research.google.com/github/albertokabore/Albert_Healthcare-Claims-Data-Processing-and-Analytics-using-PySpark-on-Databricks/blob/main/PySPark.ipynb\" target=\"_parent\"><img src=\"https://colab.research.google.com/assets/colab-badge.svg\" alt=\"Open In Colab\"/></a>"
      ]
    },
    {
      "cell_type": "code",
      "execution_count": 198,
      "metadata": {
        "id": "gtCiZF0VIkB-"
      },
      "outputs": [],
      "source": []
    },
    {
      "cell_type": "markdown",
      "source": [
        "Objectives & Tasks"
      ],
      "metadata": {
        "id": "uNtQDEqNXCbl"
      }
    },
    {
      "cell_type": "code",
      "source": [
        "!pip install pyspark pandas openpyxl matplotlib seaborn pathlib"
      ],
      "metadata": {
        "colab": {
          "base_uri": "https://localhost:8080/"
        },
        "id": "R1cRXiSZXSr5",
        "outputId": "ff772f72-1d74-497b-b201-bc713876f664"
      },
      "execution_count": 199,
      "outputs": [
        {
          "output_type": "stream",
          "name": "stdout",
          "text": [
            "Requirement already satisfied: pyspark in /usr/local/lib/python3.11/dist-packages (3.5.1)\n",
            "Requirement already satisfied: pandas in /usr/local/lib/python3.11/dist-packages (2.2.2)\n",
            "Requirement already satisfied: openpyxl in /usr/local/lib/python3.11/dist-packages (3.1.5)\n",
            "Requirement already satisfied: matplotlib in /usr/local/lib/python3.11/dist-packages (3.10.0)\n",
            "Requirement already satisfied: seaborn in /usr/local/lib/python3.11/dist-packages (0.13.2)\n",
            "Requirement already satisfied: pathlib in /usr/local/lib/python3.11/dist-packages (1.0.1)\n",
            "Requirement already satisfied: py4j==0.10.9.7 in /usr/local/lib/python3.11/dist-packages (from pyspark) (0.10.9.7)\n",
            "Requirement already satisfied: numpy>=1.23.2 in /usr/local/lib/python3.11/dist-packages (from pandas) (2.0.2)\n",
            "Requirement already satisfied: python-dateutil>=2.8.2 in /usr/local/lib/python3.11/dist-packages (from pandas) (2.9.0.post0)\n",
            "Requirement already satisfied: pytz>=2020.1 in /usr/local/lib/python3.11/dist-packages (from pandas) (2025.2)\n",
            "Requirement already satisfied: tzdata>=2022.7 in /usr/local/lib/python3.11/dist-packages (from pandas) (2025.2)\n",
            "Requirement already satisfied: et-xmlfile in /usr/local/lib/python3.11/dist-packages (from openpyxl) (2.0.0)\n",
            "Requirement already satisfied: contourpy>=1.0.1 in /usr/local/lib/python3.11/dist-packages (from matplotlib) (1.3.2)\n",
            "Requirement already satisfied: cycler>=0.10 in /usr/local/lib/python3.11/dist-packages (from matplotlib) (0.12.1)\n",
            "Requirement already satisfied: fonttools>=4.22.0 in /usr/local/lib/python3.11/dist-packages (from matplotlib) (4.58.5)\n",
            "Requirement already satisfied: kiwisolver>=1.3.1 in /usr/local/lib/python3.11/dist-packages (from matplotlib) (1.4.8)\n",
            "Requirement already satisfied: packaging>=20.0 in /usr/local/lib/python3.11/dist-packages (from matplotlib) (24.2)\n",
            "Requirement already satisfied: pillow>=8 in /usr/local/lib/python3.11/dist-packages (from matplotlib) (11.2.1)\n",
            "Requirement already satisfied: pyparsing>=2.3.1 in /usr/local/lib/python3.11/dist-packages (from matplotlib) (3.2.3)\n",
            "Requirement already satisfied: six>=1.5 in /usr/local/lib/python3.11/dist-packages (from python-dateutil>=2.8.2->pandas) (1.17.0)\n"
          ]
        }
      ]
    },
    {
      "cell_type": "code",
      "source": [],
      "metadata": {
        "id": "eAHTUHJHXS06"
      },
      "execution_count": 199,
      "outputs": []
    },
    {
      "cell_type": "code",
      "source": [
        "import pandas as pd\n",
        "import matplotlib.pyplot as plt\n",
        "import seaborn as sns\n",
        "from pathlib import Path\n"
      ],
      "metadata": {
        "id": "Q3TgYh8xOFQk"
      },
      "execution_count": 200,
      "outputs": []
    },
    {
      "cell_type": "code",
      "source": [
        "# Install Java and PySpark dependencies\n",
        "!apt-get install openjdk-8-jdk-headless -qq > /dev/null\n",
        "\n",
        "# Download and extract Spark 3.4.1 (confirmed working version)\n",
        "!wget -q https://archive.apache.org/dist/spark/spark-3.4.1/spark-3.4.1-bin-hadoop3.tgz\n",
        "!tar -xvzf spark-3.4.1-bin-hadoop3.tgz > /dev/null\n",
        "\n",
        "# Install findspark\n",
        "!pip install -q findspark\n",
        "\n",
        "# Set environment variables\n",
        "import os\n",
        "os.environ[\"JAVA_HOME\"] = \"/usr/lib/jvm/java-8-openjdk-amd64\"\n",
        "os.environ[\"SPARK_HOME\"] = \"/content/spark-3.4.1-bin-hadoop3\"\n",
        "\n",
        "# Initialize findspark and SparkSession\n",
        "import findspark\n",
        "findspark.init()\n",
        "\n",
        "from pyspark.sql import SparkSession\n",
        "spark = SparkSession.builder.appName(\"HealthcareClaims\").getOrCreate()\n",
        "\n",
        "print(\"PySpark is ready!\")\n"
      ],
      "metadata": {
        "colab": {
          "base_uri": "https://localhost:8080/"
        },
        "id": "hE_bqmeSMORQ",
        "outputId": "3eb02d30-fb13-49a0-e1c7-097238337f2e"
      },
      "execution_count": 201,
      "outputs": [
        {
          "output_type": "stream",
          "name": "stdout",
          "text": [
            "PySpark is ready!\n"
          ]
        }
      ]
    },
    {
      "cell_type": "code",
      "source": [
        "# Uncomment and run the following lines in case Google Colab is being used\n",
        "from google.colab import drive\n",
        "drive.mount('/content/drive')"
      ],
      "metadata": {
        "colab": {
          "base_uri": "https://localhost:8080/"
        },
        "id": "mbPF96oMLdeT",
        "outputId": "d31bc150-6788-4ce9-8084-ba4f25d3a6bf"
      },
      "execution_count": 202,
      "outputs": [
        {
          "output_type": "stream",
          "name": "stdout",
          "text": [
            "Drive already mounted at /content/drive; to attempt to forcibly remount, call drive.mount(\"/content/drive\", force_remount=True).\n"
          ]
        }
      ]
    },
    {
      "cell_type": "code",
      "source": [
        "from pyspark.sql import SparkSession\n",
        "\n",
        "spark = SparkSession.builder \\\n",
        "    .appName(\"HealthcareClaims\") \\\n",
        "    .getOrCreate()  # <- THIS is the missing part\n"
      ],
      "metadata": {
        "id": "Yb-Injd8Ldh1"
      },
      "execution_count": 203,
      "outputs": []
    },
    {
      "cell_type": "code",
      "source": [
        "import os\n",
        "os.listdir()"
      ],
      "metadata": {
        "colab": {
          "base_uri": "https://localhost:8080/"
        },
        "id": "4SyzAuHwMib-",
        "outputId": "f113d4f8-0d89-4244-d01d-0acf2af6cfcc"
      },
      "execution_count": 204,
      "outputs": [
        {
          "output_type": "execute_result",
          "data": {
            "text/plain": [
              "['.config',\n",
              " 'Readmission Rate by A1C Result.png',\n",
              " 'cleaned_diabetic_data.parquet',\n",
              " 'spark-3.4.1-bin-hadoop3',\n",
              " 'avg_time_by_age.png',\n",
              " 'spark-3.4.1-bin-hadoop3.tgz.4',\n",
              " 'a1c_readmit.png',\n",
              " 'spark-3.4.1-bin-hadoop3.tgz',\n",
              " 'readmit_by_diag1.csv',\n",
              " 'diabetic_data (1).csv',\n",
              " 'spark-3.4.1-bin-hadoop3.tgz.3',\n",
              " 'spark-3.4.1-bin-hadoop3.tgz.2',\n",
              " 'spark-3.4.1-bin-hadoop3.tgz.5',\n",
              " 'insulin_readmit.png',\n",
              " 'diabetic_data.csv',\n",
              " 'top_diag_readmit.png',\n",
              " 'drive',\n",
              " 'spark-3.4.1-bin-hadoop3.tgz.1',\n",
              " 'avg_time_by_age.csv',\n",
              " 'Readmission Rate by Insulin Use.png',\n",
              " 'Top 5 Diagnosis Codes by Readmission Rate.png',\n",
              " 'a1c_readmit.csv',\n",
              " 'Avg Time in Hospital by Age Group.png',\n",
              " 'chart_name.png',\n",
              " 'insulin_readmit.csv',\n",
              " 'sample_data']"
            ]
          },
          "metadata": {},
          "execution_count": 204
        }
      ]
    },
    {
      "cell_type": "markdown",
      "source": [
        "Step 1: Data Ingestion"
      ],
      "metadata": {
        "id": "T97MDGDDXru1"
      }
    },
    {
      "cell_type": "code",
      "source": [
        "# Read CSV using PySpark\n",
        "df = spark.read.csv(\"diabetic_data.csv\", header=True, inferSchema=True)\n",
        "print(\" Data loaded\")\n",
        "df.printSchema()\n",
        "df.show(5)"
      ],
      "metadata": {
        "colab": {
          "base_uri": "https://localhost:8080/"
        },
        "id": "RvrOjoyRCxHi",
        "outputId": "cbb9a4c9-b761-4140-c97e-4ecb6080a089"
      },
      "execution_count": 205,
      "outputs": [
        {
          "output_type": "stream",
          "name": "stdout",
          "text": [
            " Data loaded\n",
            "root\n",
            " |-- encounter_id: integer (nullable = true)\n",
            " |-- patient_nbr: integer (nullable = true)\n",
            " |-- race: string (nullable = true)\n",
            " |-- gender: string (nullable = true)\n",
            " |-- age: string (nullable = true)\n",
            " |-- weight: string (nullable = true)\n",
            " |-- admission_type_id: integer (nullable = true)\n",
            " |-- discharge_disposition_id: integer (nullable = true)\n",
            " |-- admission_source_id: integer (nullable = true)\n",
            " |-- time_in_hospital: integer (nullable = true)\n",
            " |-- payer_code: string (nullable = true)\n",
            " |-- medical_specialty: string (nullable = true)\n",
            " |-- num_lab_procedures: integer (nullable = true)\n",
            " |-- num_procedures: integer (nullable = true)\n",
            " |-- num_medications: integer (nullable = true)\n",
            " |-- number_outpatient: integer (nullable = true)\n",
            " |-- number_emergency: integer (nullable = true)\n",
            " |-- number_inpatient: integer (nullable = true)\n",
            " |-- diag_1: string (nullable = true)\n",
            " |-- diag_2: string (nullable = true)\n",
            " |-- diag_3: string (nullable = true)\n",
            " |-- number_diagnoses: integer (nullable = true)\n",
            " |-- max_glu_serum: string (nullable = true)\n",
            " |-- A1Cresult: string (nullable = true)\n",
            " |-- metformin: string (nullable = true)\n",
            " |-- repaglinide: string (nullable = true)\n",
            " |-- nateglinide: string (nullable = true)\n",
            " |-- chlorpropamide: string (nullable = true)\n",
            " |-- glimepiride: string (nullable = true)\n",
            " |-- acetohexamide: string (nullable = true)\n",
            " |-- glipizide: string (nullable = true)\n",
            " |-- glyburide: string (nullable = true)\n",
            " |-- tolbutamide: string (nullable = true)\n",
            " |-- pioglitazone: string (nullable = true)\n",
            " |-- rosiglitazone: string (nullable = true)\n",
            " |-- acarbose: string (nullable = true)\n",
            " |-- miglitol: string (nullable = true)\n",
            " |-- troglitazone: string (nullable = true)\n",
            " |-- tolazamide: string (nullable = true)\n",
            " |-- examide: string (nullable = true)\n",
            " |-- citoglipton: string (nullable = true)\n",
            " |-- insulin: string (nullable = true)\n",
            " |-- glyburide-metformin: string (nullable = true)\n",
            " |-- glipizide-metformin: string (nullable = true)\n",
            " |-- glimepiride-pioglitazone: string (nullable = true)\n",
            " |-- metformin-rosiglitazone: string (nullable = true)\n",
            " |-- metformin-pioglitazone: string (nullable = true)\n",
            " |-- change: string (nullable = true)\n",
            " |-- diabetesMed: string (nullable = true)\n",
            " |-- readmitted: string (nullable = true)\n",
            "\n",
            "+------------+-----------+---------------+------+-------+------+-----------------+------------------------+-------------------+----------------+----------+--------------------+------------------+--------------+---------------+-----------------+----------------+----------------+------+------+------+----------------+-------------+---------+---------+-----------+-----------+--------------+-----------+-------------+---------+---------+-----------+------------+-------------+--------+--------+------------+----------+-------+-----------+-------+-------------------+-------------------+------------------------+-----------------------+----------------------+------+-----------+----------+\n",
            "|encounter_id|patient_nbr|           race|gender|    age|weight|admission_type_id|discharge_disposition_id|admission_source_id|time_in_hospital|payer_code|   medical_specialty|num_lab_procedures|num_procedures|num_medications|number_outpatient|number_emergency|number_inpatient|diag_1|diag_2|diag_3|number_diagnoses|max_glu_serum|A1Cresult|metformin|repaglinide|nateglinide|chlorpropamide|glimepiride|acetohexamide|glipizide|glyburide|tolbutamide|pioglitazone|rosiglitazone|acarbose|miglitol|troglitazone|tolazamide|examide|citoglipton|insulin|glyburide-metformin|glipizide-metformin|glimepiride-pioglitazone|metformin-rosiglitazone|metformin-pioglitazone|change|diabetesMed|readmitted|\n",
            "+------------+-----------+---------------+------+-------+------+-----------------+------------------------+-------------------+----------------+----------+--------------------+------------------+--------------+---------------+-----------------+----------------+----------------+------+------+------+----------------+-------------+---------+---------+-----------+-----------+--------------+-----------+-------------+---------+---------+-----------+------------+-------------+--------+--------+------------+----------+-------+-----------+-------+-------------------+-------------------+------------------------+-----------------------+----------------------+------+-----------+----------+\n",
            "|     2278392|    8222157|      Caucasian|Female| [0-10)|     ?|                6|                      25|                  1|               1|         ?|Pediatrics-Endocr...|                41|             0|              1|                0|               0|               0|250.83|     ?|     ?|               1|         None|     None|       No|         No|         No|            No|         No|           No|       No|       No|         No|          No|           No|      No|      No|          No|        No|     No|         No|     No|                 No|                 No|                      No|                     No|                    No|    No|         No|        NO|\n",
            "|      149190|   55629189|      Caucasian|Female|[10-20)|     ?|                1|                       1|                  7|               3|         ?|                   ?|                59|             0|             18|                0|               0|               0|   276|250.01|   255|               9|         None|     None|       No|         No|         No|            No|         No|           No|       No|       No|         No|          No|           No|      No|      No|          No|        No|     No|         No|     Up|                 No|                 No|                      No|                     No|                    No|    Ch|        Yes|       >30|\n",
            "|       64410|   86047875|AfricanAmerican|Female|[20-30)|     ?|                1|                       1|                  7|               2|         ?|                   ?|                11|             5|             13|                2|               0|               1|   648|   250|   V27|               6|         None|     None|       No|         No|         No|            No|         No|           No|   Steady|       No|         No|          No|           No|      No|      No|          No|        No|     No|         No|     No|                 No|                 No|                      No|                     No|                    No|    No|        Yes|        NO|\n",
            "|      500364|   82442376|      Caucasian|  Male|[30-40)|     ?|                1|                       1|                  7|               2|         ?|                   ?|                44|             1|             16|                0|               0|               0|     8|250.43|   403|               7|         None|     None|       No|         No|         No|            No|         No|           No|       No|       No|         No|          No|           No|      No|      No|          No|        No|     No|         No|     Up|                 No|                 No|                      No|                     No|                    No|    Ch|        Yes|        NO|\n",
            "|       16680|   42519267|      Caucasian|  Male|[40-50)|     ?|                1|                       1|                  7|               1|         ?|                   ?|                51|             0|              8|                0|               0|               0|   197|   157|   250|               5|         None|     None|       No|         No|         No|            No|         No|           No|   Steady|       No|         No|          No|           No|      No|      No|          No|        No|     No|         No| Steady|                 No|                 No|                      No|                     No|                    No|    Ch|        Yes|        NO|\n",
            "+------------+-----------+---------------+------+-------+------+-----------------+------------------------+-------------------+----------------+----------+--------------------+------------------+--------------+---------------+-----------------+----------------+----------------+------+------+------+----------------+-------------+---------+---------+-----------+-----------+--------------+-----------+-------------+---------+---------+-----------+------------+-------------+--------+--------+------------+----------+-------+-----------+-------+-------------------+-------------------+------------------------+-----------------------+----------------------+------+-----------+----------+\n",
            "only showing top 5 rows\n",
            "\n"
          ]
        }
      ]
    },
    {
      "cell_type": "markdown",
      "source": [
        "Step 2: Data Cleansing"
      ],
      "metadata": {
        "id": "spy1wugtXzV5"
      }
    },
    {
      "cell_type": "code",
      "source": [
        "# Data Cleansing\n",
        "from pyspark.sql.functions import col, when\n",
        "\n",
        "df_cleaned = df.replace('?', None)\n",
        "df_cleaned = df_cleaned.filter(df_cleaned.gender != \"Unknown/Invalid\")\n",
        "print(f\" Cleaned data: {df_cleaned.count()} rows\")\n"
      ],
      "metadata": {
        "colab": {
          "base_uri": "https://localhost:8080/"
        },
        "id": "ZNZopgPZDZUh",
        "outputId": "c161dc9a-84e6-41f4-a5b6-86e0a09185cd"
      },
      "execution_count": 206,
      "outputs": [
        {
          "output_type": "stream",
          "name": "stdout",
          "text": [
            " Cleaned data: 101763 rows\n"
          ]
        }
      ]
    },
    {
      "cell_type": "markdown",
      "source": [
        " Step 3: Data Transformation"
      ],
      "metadata": {
        "id": "CkV89rxCYMJF"
      }
    },
    {
      "cell_type": "code",
      "source": [
        "# Data Transformation\n",
        "df_transformed = df_cleaned.withColumn(\n",
        "    \"total_visits\",\n",
        "    col(\"number_outpatient\") + col(\"number_emergency\") + col(\"number_inpatient\")\n",
        ").withColumn(\n",
        "    \"readmission_flag\",\n",
        "    when(col(\"readmitted\").isin(\"<30\",\">30\"), 1).otherwise(0)\n",
        ")\n",
        "print(\" Transformed data sample:\")\n",
        "df_transformed.select(\"total_visits\", \"readmission_flag\").show(5)\n"
      ],
      "metadata": {
        "colab": {
          "base_uri": "https://localhost:8080/"
        },
        "id": "Olx6YVtxGemV",
        "outputId": "259e4b5f-3ed5-4f24-a42c-c3ede5e21b12"
      },
      "execution_count": 207,
      "outputs": [
        {
          "output_type": "stream",
          "name": "stdout",
          "text": [
            " Transformed data sample:\n",
            "+------------+----------------+\n",
            "|total_visits|readmission_flag|\n",
            "+------------+----------------+\n",
            "|           0|               0|\n",
            "|           0|               1|\n",
            "|           3|               0|\n",
            "|           0|               0|\n",
            "|           0|               0|\n",
            "+------------+----------------+\n",
            "only showing top 5 rows\n",
            "\n"
          ]
        }
      ]
    },
    {
      "cell_type": "markdown",
      "source": [
        "Step 4: Exploratory Data Analysis (EDA)"
      ],
      "metadata": {
        "id": "BHQr6n3TYle-"
      }
    },
    {
      "cell_type": "markdown",
      "source": [
        "a) Average time in hospital by age"
      ],
      "metadata": {
        "id": "1NjpRVsoYux0"
      }
    },
    {
      "cell_type": "code",
      "source": [
        "avg_time_by_age = df_transformed.groupBy(\"age\").avg(\"time_in_hospital\").orderBy(\"age\")\n",
        "print(\"Average time in hospital by age group:\")\n",
        "avg_time_by_age.show()"
      ],
      "metadata": {
        "colab": {
          "base_uri": "https://localhost:8080/"
        },
        "id": "kERcbJWETC0K",
        "outputId": "f3d1c56a-809c-4190-f4d7-572a7db13534"
      },
      "execution_count": 208,
      "outputs": [
        {
          "output_type": "stream",
          "name": "stdout",
          "text": [
            "Average time in hospital by age group:\n",
            "+--------+---------------------+\n",
            "|     age|avg(time_in_hospital)|\n",
            "+--------+---------------------+\n",
            "|  [0-10)|    2.546583850931677|\n",
            "| [10-20)|    3.191027496382055|\n",
            "| [20-30)|   3.5648762824381413|\n",
            "| [30-40)|   3.7997350993377483|\n",
            "| [40-50)|    4.039648941662365|\n",
            "| [50-60)|    4.125753361149745|\n",
            "| [60-70)|    4.382394804732675|\n",
            "| [70-80)|    4.590884677357477|\n",
            "| [80-90)|    4.808629412106763|\n",
            "|[90-100)|    4.755818116720373|\n",
            "+--------+---------------------+\n",
            "\n"
          ]
        }
      ]
    },
    {
      "cell_type": "markdown",
      "source": [
        "b) Top diagnosis codes with high readmission\n"
      ],
      "metadata": {
        "id": "pAcBLUSWZSd0"
      }
    },
    {
      "cell_type": "code",
      "source": [
        "readmit_diag1 = df_transformed.groupBy(\"diag_1\").avg(\"readmission_flag\").orderBy(col(\"avg(readmission_flag)\").desc())\n",
        "print(\"Top diagnosis codes by readmission rate:\")\n",
        "readmit_diag1.show(5)\n"
      ],
      "metadata": {
        "colab": {
          "base_uri": "https://localhost:8080/"
        },
        "id": "iGT_eFncZT6C",
        "outputId": "4f4a1173-cf06-42e3-f17c-fdeafa4f1795"
      },
      "execution_count": 209,
      "outputs": [
        {
          "output_type": "stream",
          "name": "stdout",
          "text": [
            "Top diagnosis codes by readmission rate:\n",
            "+------+---------------------+\n",
            "|diag_1|avg(readmission_flag)|\n",
            "+------+---------------------+\n",
            "|   365|                  1.0|\n",
            "|   V60|                  1.0|\n",
            "|   878|                  1.0|\n",
            "|250.52|                  1.0|\n",
            "|   944|                  1.0|\n",
            "+------+---------------------+\n",
            "only showing top 5 rows\n",
            "\n"
          ]
        }
      ]
    },
    {
      "cell_type": "markdown",
      "source": [
        "c) Readmission rate by insulin use"
      ],
      "metadata": {
        "id": "xSAJFZo2cwmy"
      }
    },
    {
      "cell_type": "code",
      "source": [
        "insulin_readmit = df_transformed.groupBy(\"insulin\").avg(\"readmission_flag\").orderBy(\"insulin\")\n",
        "print(\"Readmission rates by insulin use:\")\n",
        "insulin_readmit.show()\n"
      ],
      "metadata": {
        "colab": {
          "base_uri": "https://localhost:8080/"
        },
        "id": "jnbBMiI-ZzzZ",
        "outputId": "7d4b49a8-fadd-4a97-a1d4-b740c980ca91"
      },
      "execution_count": 210,
      "outputs": [
        {
          "output_type": "stream",
          "name": "stdout",
          "text": [
            "Readmission rates by insulin use:\n",
            "+-------+---------------------+\n",
            "|insulin|avg(readmission_flag)|\n",
            "+-------+---------------------+\n",
            "|   Down|   0.5279096415125225|\n",
            "|     No|  0.43699873364288727|\n",
            "| Steady|  0.45106810593536256|\n",
            "|     Up|   0.5153764581124072|\n",
            "+-------+---------------------+\n",
            "\n"
          ]
        }
      ]
    },
    {
      "cell_type": "markdown",
      "source": [
        "d) Readmission rate by A1C result\n"
      ],
      "metadata": {
        "id": "v7RswgjHaGdw"
      }
    },
    {
      "cell_type": "code",
      "source": [
        "a1c_readmit = df_transformed.groupBy(\"A1Cresult\").avg(\"readmission_flag\").orderBy(\"A1Cresult\")\n",
        "print(\"Readmission rates by A1C result:\")\n",
        "a1c_readmit.show()\n"
      ],
      "metadata": {
        "colab": {
          "base_uri": "https://localhost:8080/"
        },
        "id": "skL-kOHiaJXB",
        "outputId": "af31912d-bc70-4e8c-f868-fd28e7320a6f"
      },
      "execution_count": 211,
      "outputs": [
        {
          "output_type": "stream",
          "name": "stdout",
          "text": [
            "Readmission rates by A1C result:\n",
            "+---------+---------------------+\n",
            "|A1Cresult|avg(readmission_flag)|\n",
            "+---------+---------------------+\n",
            "|       >7|  0.44150052465897166|\n",
            "|       >8|  0.45180136319376824|\n",
            "|     None|   0.4652309870788837|\n",
            "|     Norm|  0.41703406813627253|\n",
            "+---------+---------------------+\n",
            "\n"
          ]
        }
      ]
    },
    {
      "cell_type": "markdown",
      "source": [
        "Data Visualization"
      ],
      "metadata": {
        "id": "HRhPmix8jKqz"
      }
    },
    {
      "cell_type": "code",
      "source": [
        "import matplotlib.pyplot as plt\n",
        "import seaborn as sns\n",
        "\n",
        "# Convert Spark summaries to Pandas\n",
        "avg_time_by_age_pd = avg_time_by_age.toPandas()\n",
        "readmit_diag1_pd = readmit_diag1.toPandas().head(5)\n",
        "insulin_readmit_pd = insulin_readmit.toPandas()\n",
        "a1c_readmit_pd = a1c_readmit.toPandas()\n",
        "\n"
      ],
      "metadata": {
        "id": "vi0EvOrsjPj7"
      },
      "execution_count": 212,
      "outputs": []
    },
    {
      "cell_type": "code",
      "source": [
        "\n",
        "# 1. Average Time in Hospital by Age Group\n",
        "sns.barplot(data=avg_time_by_age_pd, x=\"age\", y=\"avg(time_in_hospital)\", color=\"skyblue\")\n",
        "plt.title(\"Avg Time in Hospital by Age Group\")\n",
        "plt.xticks(rotation=45)\n",
        "plt.tight_layout()\n",
        "plt.show()"
      ],
      "metadata": {
        "colab": {
          "base_uri": "https://localhost:8080/",
          "height": 487
        },
        "id": "TA0yGSZykGgg",
        "outputId": "cd63d91f-92aa-462c-d986-3e267cc033b6"
      },
      "execution_count": 213,
      "outputs": [
        {
          "output_type": "display_data",
          "data": {
            "text/plain": [
              "<Figure size 640x480 with 1 Axes>"
            ],
            "image/png": "[encoded data removed]"
          },
          "metadata": {}
        }
      ]
    },
    {
      "cell_type": "code",
      "source": [
        "\n",
        "\n",
        "# 2. Top 5 Diagnosis Codes by Readmission Rate\n",
        "sns.barplot(data=readmit_diag1_pd.head(5), x=\"diag_1\", y=\"avg(readmission_flag)\", color=\"salmon\")\n",
        "plt.title(\"Top 5 Diagnosis Codes by Readmission Rate\")\n",
        "plt.xticks(rotation=45)\n",
        "plt.tight_layout()\n",
        "plt.show()\n"
      ],
      "metadata": {
        "colab": {
          "base_uri": "https://localhost:8080/",
          "height": 487
        },
        "id": "xzhjnZZ5jJjA",
        "outputId": "c91be021-b0db-4e77-fbb1-0741124f5f7e"
      },
      "execution_count": 214,
      "outputs": [
        {
          "output_type": "display_data",
          "data": {
            "text/plain": [
              "<Figure size 640x480 with 1 Axes>"
            ],
            "image/png": "[encoded data removed]"
          },
          "metadata": {}
        }
      ]
    },
    {
      "cell_type": "code",
      "source": [
        "\n",
        "# 3. Readmission Rate by Insulin Use\n",
        "sns.barplot(data=insulin_readmit_pd, x=\"insulin\", y=\"avg(readmission_flag)\", color=\"mediumseagreen\")\n",
        "plt.title(\"Readmission Rate by Insulin Use\")\n",
        "plt.tight_layout()\n",
        "plt.show()\n"
      ],
      "metadata": {
        "colab": {
          "base_uri": "https://localhost:8080/",
          "height": 487
        },
        "id": "Q6rYLrpUkQqD",
        "outputId": "6c626310-fceb-46f9-cb1a-27567383197f"
      },
      "execution_count": 215,
      "outputs": [
        {
          "output_type": "display_data",
          "data": {
            "text/plain": [
              "<Figure size 640x480 with 1 Axes>"
            ],
            "image/png": "[encoded data removed]"
          },
          "metadata": {}
        }
      ]
    },
    {
      "cell_type": "code",
      "source": [
        "# 4. Readmission Rate by A1C Result\n",
        "sns.barplot(data=a1c_readmit_pd, x=\"A1Cresult\", y=\"avg(readmission_flag)\", color=\"mediumpurple\")\n",
        "plt.title(\"Readmission Rate by A1C Result\")\n",
        "plt.tight_layout()\n",
        "plt.show()"
      ],
      "metadata": {
        "colab": {
          "base_uri": "https://localhost:8080/",
          "height": 487
        },
        "id": "DOZPhmjUrmFh",
        "outputId": "53062aa6-3da6-4c48-e4c2-e77ebc0ef680"
      },
      "execution_count": 216,
      "outputs": [
        {
          "output_type": "display_data",
          "data": {
            "text/plain": [
              "<Figure size 640x480 with 1 Axes>"
            ],
            "image/png": "[encoded data removed]"
          },
          "metadata": {}
        }
      ]
    },
    {
      "cell_type": "code",
      "source": [
        "plt.savefig(\"Avg Time in Hospital by Age Group.png\")\n",
        "plt.savefig(\"Top 5 Diagnosis Codes by Readmission Rate.png\")\n",
        "plt.savefig(\"Readmission Rate by Insulin Use.png\")\n",
        "plt.savefig(\"Readmission Rate by A1C Result.png\")\n"
      ],
      "metadata": {
        "colab": {
          "base_uri": "https://localhost:8080/",
          "height": 35
        },
        "id": "BcIhVyhVuTjr",
        "outputId": "e29a9513-9586-4e0e-ef42-d8d8c5ad6659"
      },
      "execution_count": 217,
      "outputs": [
        {
          "output_type": "display_data",
          "data": {
            "text/plain": [
              "<Figure size 640x480 with 0 Axes>"
            ]
          },
          "metadata": {}
        }
      ]
    },
    {
      "cell_type": "markdown",
      "source": [
        "Step 5: Performance Optimization"
      ],
      "metadata": {
        "id": "qjCzudqgazoO"
      }
    },
    {
      "cell_type": "code",
      "source": [
        "df_partitioned = df_transformed.repartition(\"age\")\n",
        "df_partitioned.cache()\n"
      ],
      "metadata": {
        "colab": {
          "base_uri": "https://localhost:8080/"
        },
        "id": "jfOER3W-a1Dk",
        "outputId": "73c50b71-cc62-41c7-e3ca-c150e3d4d74f"
      },
      "execution_count": 218,
      "outputs": [
        {
          "output_type": "execute_result",
          "data": {
            "text/plain": [
              "DataFrame[encounter_id: int, patient_nbr: int, race: string, gender: string, age: string, weight: string, admission_type_id: int, discharge_disposition_id: int, admission_source_id: int, time_in_hospital: int, payer_code: string, medical_specialty: string, num_lab_procedures: int, num_procedures: int, num_medications: int, number_outpatient: int, number_emergency: int, number_inpatient: int, diag_1: string, diag_2: string, diag_3: string, number_diagnoses: int, max_glu_serum: string, A1Cresult: string, metformin: string, repaglinide: string, nateglinide: string, chlorpropamide: string, glimepiride: string, acetohexamide: string, glipizide: string, glyburide: string, tolbutamide: string, pioglitazone: string, rosiglitazone: string, acarbose: string, miglitol: string, troglitazone: string, tolazamide: string, examide: string, citoglipton: string, insulin: string, glyburide-metformin: string, glipizide-metformin: string, glimepiride-pioglitazone: string, metformin-rosiglitazone: string, metformin-pioglitazone: string, change: string, diabetesMed: string, readmitted: string, total_visits: int, readmission_flag: int]"
            ]
          },
          "metadata": {},
          "execution_count": 218
        }
      ]
    },
    {
      "cell_type": "markdown",
      "source": [
        "Step 6: Data Export"
      ],
      "metadata": {
        "id": "ta6SrS7LbAgW"
      }
    },
    {
      "cell_type": "markdown",
      "source": [
        "a) Save cleaned dataset as Parquet"
      ],
      "metadata": {
        "id": "HDrCjNy4bE60"
      }
    },
    {
      "cell_type": "code",
      "source": [
        "df_transformed.write.mode(\"overwrite\").parquet(\"/content/cleaned_diabetic_data.parquet\")\n"
      ],
      "metadata": {
        "id": "kRT0TREfGe4T"
      },
      "execution_count": 219,
      "outputs": []
    },
    {
      "cell_type": "code",
      "source": [
        "# summaries\n",
        "avg_time_by_age = df_transformed.groupBy(\"age\").avg(\"time_in_hospital\").orderBy(\"age\")\n",
        "readmit_diag1 = df_transformed.groupBy(\"diag_1\").avg(\"readmission_flag\").orderBy(col(\"avg(readmission_flag)\").desc())\n",
        "insulin_readmit = df_transformed.groupBy(\"insulin\").avg(\"readmission_flag\").orderBy(\"insulin\")\n",
        "a1c_readmit = df_transformed.groupBy(\"A1Cresult\").avg(\"readmission_flag\").orderBy(\"A1Cresult\")\n",
        "\n"
      ],
      "metadata": {
        "id": "5ixj79cXg36e"
      },
      "execution_count": 220,
      "outputs": []
    },
    {
      "cell_type": "code",
      "source": [
        "# Convert to Pandas\n",
        "avg_time_by_age_pd = avg_time_by_age.toPandas()\n",
        "readmit_diag1_pd = readmit_diag1.toPandas().head(5)\n",
        "insulin_readmit_pd = insulin_readmit.toPandas()\n",
        "a1c_readmit_pd = a1c_readmit.toPandas()\n",
        "\n"
      ],
      "metadata": {
        "id": "kmnRZV9tg4EO"
      },
      "execution_count": 221,
      "outputs": []
    },
    {
      "cell_type": "code",
      "source": [
        "# Save to CSV again for future use\n",
        "avg_time_by_age_pd.to_csv(\"/mnt/data/avg_time_by_age.csv\", index=False)\n",
        "readmit_diag1_pd.to_csv(\"/mnt/data/top_diag_readmit.csv\", index=False)\n",
        "insulin_readmit_pd.to_csv(\"/mnt/data/insulin_readmit.csv\", index=False)\n",
        "a1c_readmit_pd.to_csv(\"/mnt/data/a1c_readmit.csv\", index=False)\n",
        "\n",
        "{\n",
        "    \"avg_time_by_age\": avg_time_by_age_pd.head(),\n",
        "    \"top_diag_readmit\": readmit_diag1_pd,\n",
        "    \"insulin_readmit\": insulin_readmit_pd,\n",
        "    \"a1c_readmit\": a1c_readmit_pd\n",
        "}"
      ],
      "metadata": {
        "colab": {
          "base_uri": "https://localhost:8080/"
        },
        "id": "6QWqb923g4Hw",
        "outputId": "6baae1b2-46ae-41ac-d65d-bdc0611caab5"
      },
      "execution_count": 222,
      "outputs": [
        {
          "output_type": "execute_result",
          "data": {
            "text/plain": [
              "{'avg_time_by_age':        age  avg(time_in_hospital)\n",
              " 0   [0-10)               2.546584\n",
              " 1  [10-20)               3.191027\n",
              " 2  [20-30)               3.564876\n",
              " 3  [30-40)               3.799735\n",
              " 4  [40-50)               4.039649,\n",
              " 'top_diag_readmit':    diag_1  avg(readmission_flag)\n",
              " 0     944                    1.0\n",
              " 1  250.52                    1.0\n",
              " 2     878                    1.0\n",
              " 3     365                    1.0\n",
              " 4     980                    1.0,\n",
              " 'insulin_readmit':   insulin  avg(readmission_flag)\n",
              " 0    Down               0.527910\n",
              " 1      No               0.436999\n",
              " 2  Steady               0.451068\n",
              " 3      Up               0.515376,\n",
              " 'a1c_readmit':   A1Cresult  avg(readmission_flag)\n",
              " 0        >7               0.441501\n",
              " 1        >8               0.451801\n",
              " 2      None               0.465231\n",
              " 3      Norm               0.417034}"
            ]
          },
          "metadata": {},
          "execution_count": 222
        }
      ]
    }
  ]
}